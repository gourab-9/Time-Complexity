{
 "cells": [
  {
   "cell_type": "code",
   "execution_count": 1,
   "id": "aff23c05",
   "metadata": {},
   "outputs": [
    {
     "name": "stdout",
     "output_type": "stream",
     "text": [
      "enter the number345\n",
      "345\n"
     ]
    }
   ],
   "source": [
    "number = int(input('enter the number'))\n",
    "\n",
    "digits = '0123456789'\n",
    "result = ''\n",
    "while number != 0:\n",
    "    result = digits[number % 10] + result\n",
    "    number = number//10\n",
    "print(result)"
   ]
  },
  {
   "cell_type": "code",
   "execution_count": 2,
   "id": "476add35",
   "metadata": {},
   "outputs": [
    {
     "name": "stdout",
     "output_type": "stream",
     "text": [
      "10 24\n"
     ]
    }
   ],
   "source": [
    "L = [1,2,3,4]\n",
    "\n",
    "sum = 0\n",
    "for i in L:\n",
    "    sum = sum + i\n",
    "\n",
    "product = 1\n",
    "for i in L:\n",
    "    product = product*i\n",
    "\n",
    "print(sum,product)"
   ]
  },
  {
   "cell_type": "code",
   "execution_count": 3,
   "id": "f0ad2a5a",
   "metadata": {},
   "outputs": [
    {
     "name": "stdout",
     "output_type": "stream",
     "text": [
      "1 5\n",
      "1 6\n",
      "1 7\n",
      "1 8\n",
      "2 5\n",
      "2 6\n",
      "2 7\n",
      "2 8\n",
      "3 5\n",
      "3 6\n",
      "3 7\n",
      "3 8\n",
      "4 5\n",
      "4 6\n",
      "4 7\n",
      "4 8\n"
     ]
    }
   ],
   "source": [
    "A = [1,2,3,4]\n",
    "B = [5,6,7,8]\n",
    "for i in A:\n",
    "    for j in B:\n",
    "        print(i,j)"
   ]
  },
  {
   "cell_type": "raw",
   "id": "42e37b79",
   "metadata": {},
   "source": [
    "A = [1,2,3,4]\n",
    "B = [5,6,7,8]\n",
    "\n",
    "for i in A:\n",
    "    for j in B:\n",
    "        for k in range(1000000):\n",
    "            print(i,j)"
   ]
  },
  {
   "cell_type": "code",
   "execution_count": 4,
   "id": "dd3619b0",
   "metadata": {},
   "outputs": [
    {
     "name": "stdout",
     "output_type": "stream",
     "text": [
      "[5, 4, 3, 2, 1]\n"
     ]
    }
   ],
   "source": [
    "L = [1,2,3,4,5]\n",
    "\n",
    "for i in range(0,len(L)//2):\n",
    "    other = len(L) - i -1\n",
    "    temp = L[i]\n",
    "    L[i] = L[other]\n",
    "    L[other] = temp\n",
    "\n",
    "print(L)"
   ]
  },
  {
   "cell_type": "code",
   "execution_count": 5,
   "id": "d0981b92",
   "metadata": {},
   "outputs": [
    {
     "name": "stdout",
     "output_type": "stream",
     "text": [
      "35.0\n"
     ]
    }
   ],
   "source": [
    "n = 10\n",
    "k = 0;\n",
    "for i in range(n//2,n):\n",
    "    for j in range(2,n,pow(2,j)):\n",
    "        k = k + n / 2;\n",
    "\n",
    "print(k)"
   ]
  },
  {
   "cell_type": "code",
   "execution_count": 6,
   "id": "c6b6f27f",
   "metadata": {},
   "outputs": [
    {
     "name": "stdout",
     "output_type": "stream",
     "text": [
      "4\n"
     ]
    }
   ],
   "source": [
    "a = 10\n",
    "b = 3\n",
    "\n",
    "if b <= 0:\n",
    "    print(-1)\n",
    "div = a//b\n",
    "\n",
    "print(a-div-b)"
   ]
  },
  {
   "cell_type": "code",
   "execution_count": 7,
   "id": "153ea5cd",
   "metadata": {},
   "outputs": [
    {
     "name": "stdout",
     "output_type": "stream",
     "text": [
      "12\n"
     ]
    }
   ],
   "source": [
    "n = 345\n",
    "\n",
    "sum = 0\n",
    "while n>0:\n",
    "    sum = sum + n%10\n",
    "    n = n // 10\n",
    "\n",
    "print(sum)"
   ]
  },
  {
   "cell_type": "raw",
   "id": "6a1a37b2",
   "metadata": {},
   "source": [
    "def fib(n):\n",
    "    if n == 1 or n == 0:\n",
    "        return 1\n",
    "    else:\n",
    "        return fib(n-1) + fib(n-2)"
   ]
  },
  {
   "cell_type": "markdown",
   "id": "73522912",
   "metadata": {},
   "source": [
    "           {3T(n-1) if n>0\n",
    "    T(n) = {1, otherwise"
   ]
  },
  {
   "cell_type": "markdown",
   "id": "dd995b40",
   "metadata": {},
   "source": [
    "           {2T(n-1)-1 if n>0\n",
    "    T(n) = {1, otherwise"
   ]
  },
  {
   "cell_type": "code",
   "execution_count": null,
   "id": "a84e6af0",
   "metadata": {},
   "outputs": [],
   "source": []
  }
 ],
 "metadata": {
  "kernelspec": {
   "display_name": "Python 3 (ipykernel)",
   "language": "python",
   "name": "python3"
  },
  "language_info": {
   "codemirror_mode": {
    "name": "ipython",
    "version": 3
   },
   "file_extension": ".py",
   "mimetype": "text/x-python",
   "name": "python",
   "nbconvert_exporter": "python",
   "pygments_lexer": "ipython3",
   "version": "3.10.9"
  }
 },
 "nbformat": 4,
 "nbformat_minor": 5
}
